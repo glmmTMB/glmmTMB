{
 "cells": [
  {
   "cell_type": "markdown",
   "id": "48f42a2e",
   "metadata": {},
   "source": [
    "Doing the calculation to correct the results given in the [glmmTMB covstruct vignette](https://glmmtmb.github.io/glmmTMB/articles/covstruct.html):\n",
    "\n",
    "> For an unstructured matrix of size `n`, parameters `1:n` represent the log-standard deviations while the remaining `n(n-1)/2` (i.e. `(n+1):(n:(n*(n+1)/2))`) are the elements of the scaled Cholesky factor of the correlation matrix, filled in row-wise order (see TMB documentation). In particular, if L is the lower-triangular matrix with 1 on the diagonal and the correlation parameters in the lower triangle, then the correlation matrix is defined as $\\Sigma = D^{-1/2} L L^\\top D^{-1/2}$, where $D=\\textrm{diag}(LL^\\top)$. For a single correlation parameter $\\theta_0$, this works out to $\\rho=\\theta_0/\\sqrt(1+\\theta^2_0)$.\n"
   ]
  },
  {
   "cell_type": "code",
   "execution_count": 1,
   "id": "9e70cbea",
   "metadata": {},
   "outputs": [],
   "source": [
    "from sympy import *\n",
    "import numpy as np\n",
    "import IPython.display as disp  ## for pretty display\n",
    "\n",
    "## references/figuring out how to do stuff:\n",
    "## https://stackoverflow.com/questions/20979993/how-to-pretty-print-in-ipython-notebook-via-sympy\n",
    "## https://docs.sympy.org/latest/tutorial/matrices.html\n",
    "## https://stackoverflow.com/questions/33104953/how-to-replace-the-the-diagonal-elements-of-a-matrix-by-a-vector-in-sympy\n",
    "## https://docs.sympy.org/latest/modules/tensor/indexed.html"
   ]
  },
  {
   "cell_type": "code",
   "execution_count": 2,
   "id": "af3f2b79",
   "metadata": {},
   "outputs": [
    {
     "data": {
      "text/latex": [
       "$\\displaystyle \\left[\\begin{matrix}1 & \\frac{\\theta}{\\sqrt{\\theta^{2} + 1}}\\\\\\frac{\\theta}{\\sqrt{\\theta^{2} + 1}} & 1\\end{matrix}\\right]$"
      ],
      "text/plain": [
       "Matrix([\n",
       "[                       1, theta/sqrt(theta**2 + 1)],\n",
       "[theta/sqrt(theta**2 + 1),                        1]])"
      ]
     },
     "metadata": {},
     "output_type": "display_data"
    }
   ],
   "source": [
    "theta = Symbol(\"theta\")\n",
    "m = Matrix([[1,0],[theta,1]])\n",
    "def corcalc(m):\n",
    "    n = m.shape[0]\n",
    "    S = m*m.T\n",
    "    d = np.diag(S)\n",
    "    Dinv = Matrix(n, n, lambda i,j: 1/sqrt(S[i,i]) if i==j else 0)\n",
    "    res = Dinv*S*Dinv\n",
    "    return res\n",
    "\n",
    "disp.display(corcalc(m))"
   ]
  },
  {
   "cell_type": "markdown",
   "id": "33185d52",
   "metadata": {},
   "source": [
    "Now generalize to $n>2$: first by brute force ..."
   ]
  },
  {
   "cell_type": "code",
   "execution_count": 3,
   "id": "5625eeb2",
   "metadata": {
    "scrolled": true
   },
   "outputs": [
    {
     "data": {
      "text/latex": [
       "$\\displaystyle \\left[\\begin{matrix}1 & \\frac{{\\theta}_{0}}{\\sqrt{{\\theta}_{0}^{2} + 1}} & \\frac{{\\theta}_{1}}{\\sqrt{{\\theta}_{1}^{2} + {\\theta}_{2}^{2} + 1}}\\\\\\frac{{\\theta}_{0}}{\\sqrt{{\\theta}_{0}^{2} + 1}} & 1 & \\frac{{\\theta}_{0} {\\theta}_{1} + {\\theta}_{2}}{\\sqrt{{\\theta}_{0}^{2} + 1} \\sqrt{{\\theta}_{1}^{2} + {\\theta}_{2}^{2} + 1}}\\\\\\frac{{\\theta}_{1}}{\\sqrt{{\\theta}_{1}^{2} + {\\theta}_{2}^{2} + 1}} & \\frac{{\\theta}_{0} {\\theta}_{1} + {\\theta}_{2}}{\\sqrt{{\\theta}_{0}^{2} + 1} \\sqrt{{\\theta}_{1}^{2} + {\\theta}_{2}^{2} + 1}} & 1\\end{matrix}\\right]$"
      ],
      "text/plain": [
       "Matrix([\n",
       "[                                           1,                                                             theta[0]/sqrt(theta[0]**2 + 1),                                               theta[1]/sqrt(theta[1]**2 + theta[2]**2 + 1)],\n",
       "[              theta[0]/sqrt(theta[0]**2 + 1),                                                                                          1, (theta[0]*theta[1] + theta[2])/(sqrt(theta[0]**2 + 1)*sqrt(theta[1]**2 + theta[2]**2 + 1))],\n",
       "[theta[1]/sqrt(theta[1]**2 + theta[2]**2 + 1), (theta[0]*theta[1] + theta[2])/(sqrt(theta[0]**2 + 1)*sqrt(theta[1]**2 + theta[2]**2 + 1)),                                                                                          1]])"
      ]
     },
     "metadata": {},
     "output_type": "display_data"
    }
   ],
   "source": [
    "theta = IndexedBase('theta')\n",
    "m = Matrix([[1,0,0], [theta[0], 1, 0], [theta[1], theta[2], 1]] )\n",
    "disp.display(corcalc(m))"
   ]
  },
  {
   "cell_type": "markdown",
   "id": "ed8c81cd",
   "metadata": {},
   "source": [
    "Now define a general function for \"lower triangular matrix indexed by $\\theta$\""
   ]
  },
  {
   "cell_type": "code",
   "execution_count": 6,
   "id": "dd20ff72",
   "metadata": {
    "scrolled": false
   },
   "outputs": [
    {
     "data": {
      "text/latex": [
       "$\\displaystyle \\left[\\begin{matrix}1 & 0 & 0 & 0\\\\{\\theta}_{0} & 1 & 0 & 0\\\\{\\theta}_{1} & {\\theta}_{2} & 1 & 0\\\\{\\theta}_{3} & {\\theta}_{4} & {\\theta}_{5} & 1\\end{matrix}\\right]$"
      ],
      "text/plain": [
       "Matrix([\n",
       "[       1,        0,        0, 0],\n",
       "[theta[0],        1,        0, 0],\n",
       "[theta[1], theta[2],        1, 0],\n",
       "[theta[3], theta[4], theta[5], 1]])"
      ]
     },
     "metadata": {},
     "output_type": "display_data"
    }
   ],
   "source": [
    "def ltrimat(n):\n",
    "    k = [0] ## mutable\n",
    "    def nextval(i,j):\n",
    "        if i>j:\n",
    "            r = theta[k[0]]\n",
    "            k[0] = k[0]+1\n",
    "            return r\n",
    "        elif i==j:\n",
    "            return 1\n",
    "        return 0\n",
    "    m = Matrix(n, n, lambda i,j: nextval(i,j))\n",
    "    return(m)\n"
   ]
  },
  {
   "cell_type": "markdown",
   "id": "0e8b7c84",
   "metadata": {},
   "source": [
    "Check that we're indeed filling in elements as specified in the definition:"
   ]
  },
  {
   "cell_type": "code",
   "execution_count": 8,
   "id": "89d2b260",
   "metadata": {
    "scrolled": true
   },
   "outputs": [
    {
     "data": {
      "text/latex": [
       "$\\displaystyle \\left[\\begin{matrix}1 & 0 & 0 & 0\\\\{\\theta}_{0} & 1 & 0 & 0\\\\{\\theta}_{1} & {\\theta}_{2} & 1 & 0\\\\{\\theta}_{3} & {\\theta}_{4} & {\\theta}_{5} & 1\\end{matrix}\\right]$"
      ],
      "text/plain": [
       "Matrix([\n",
       "[       1,        0,        0, 0],\n",
       "[theta[0],        1,        0, 0],\n",
       "[theta[1], theta[2],        1, 0],\n",
       "[theta[3], theta[4], theta[5], 1]])"
      ]
     },
     "metadata": {},
     "output_type": "display_data"
    }
   ],
   "source": [
    "disp.display(ltrimat(4))"
   ]
  },
  {
   "cell_type": "markdown",
   "id": "5a53ad72",
   "metadata": {},
   "source": [
    "Now try `corcalc()` for some larger examples:"
   ]
  },
  {
   "cell_type": "code",
   "execution_count": 7,
   "id": "64e7b4ed",
   "metadata": {},
   "outputs": [
    {
     "data": {
      "text/latex": [
       "$\\displaystyle \\left[\\begin{matrix}1 & \\frac{{\\theta}_{0}}{\\sqrt{{\\theta}_{0}^{2} + 1}} & \\frac{{\\theta}_{1}}{\\sqrt{{\\theta}_{1}^{2} + {\\theta}_{2}^{2} + 1}} & \\frac{{\\theta}_{3}}{\\sqrt{{\\theta}_{3}^{2} + {\\theta}_{4}^{2} + {\\theta}_{5}^{2} + 1}}\\\\\\frac{{\\theta}_{0}}{\\sqrt{{\\theta}_{0}^{2} + 1}} & 1 & \\frac{{\\theta}_{0} {\\theta}_{1} + {\\theta}_{2}}{\\sqrt{{\\theta}_{0}^{2} + 1} \\sqrt{{\\theta}_{1}^{2} + {\\theta}_{2}^{2} + 1}} & \\frac{{\\theta}_{0} {\\theta}_{3} + {\\theta}_{4}}{\\sqrt{{\\theta}_{0}^{2} + 1} \\sqrt{{\\theta}_{3}^{2} + {\\theta}_{4}^{2} + {\\theta}_{5}^{2} + 1}}\\\\\\frac{{\\theta}_{1}}{\\sqrt{{\\theta}_{1}^{2} + {\\theta}_{2}^{2} + 1}} & \\frac{{\\theta}_{0} {\\theta}_{1} + {\\theta}_{2}}{\\sqrt{{\\theta}_{0}^{2} + 1} \\sqrt{{\\theta}_{1}^{2} + {\\theta}_{2}^{2} + 1}} & 1 & \\frac{{\\theta}_{1} {\\theta}_{3} + {\\theta}_{2} {\\theta}_{4} + {\\theta}_{5}}{\\sqrt{{\\theta}_{1}^{2} + {\\theta}_{2}^{2} + 1} \\sqrt{{\\theta}_{3}^{2} + {\\theta}_{4}^{2} + {\\theta}_{5}^{2} + 1}}\\\\\\frac{{\\theta}_{3}}{\\sqrt{{\\theta}_{3}^{2} + {\\theta}_{4}^{2} + {\\theta}_{5}^{2} + 1}} & \\frac{{\\theta}_{0} {\\theta}_{3} + {\\theta}_{4}}{\\sqrt{{\\theta}_{0}^{2} + 1} \\sqrt{{\\theta}_{3}^{2} + {\\theta}_{4}^{2} + {\\theta}_{5}^{2} + 1}} & \\frac{{\\theta}_{1} {\\theta}_{3} + {\\theta}_{2} {\\theta}_{4} + {\\theta}_{5}}{\\sqrt{{\\theta}_{1}^{2} + {\\theta}_{2}^{2} + 1} \\sqrt{{\\theta}_{3}^{2} + {\\theta}_{4}^{2} + {\\theta}_{5}^{2} + 1}} & 1\\end{matrix}\\right]$"
      ],
      "text/plain": [
       "Matrix([\n",
       "[                                                         1,                                                                           theta[0]/sqrt(theta[0]**2 + 1),                                                                                               theta[1]/sqrt(theta[1]**2 + theta[2]**2 + 1),                                                                                 theta[3]/sqrt(theta[3]**2 + theta[4]**2 + theta[5]**2 + 1)],\n",
       "[                            theta[0]/sqrt(theta[0]**2 + 1),                                                                                                        1,                                                 (theta[0]*theta[1] + theta[2])/(sqrt(theta[0]**2 + 1)*sqrt(theta[1]**2 + theta[2]**2 + 1)),                                   (theta[0]*theta[3] + theta[4])/(sqrt(theta[0]**2 + 1)*sqrt(theta[3]**2 + theta[4]**2 + theta[5]**2 + 1))],\n",
       "[              theta[1]/sqrt(theta[1]**2 + theta[2]**2 + 1),               (theta[0]*theta[1] + theta[2])/(sqrt(theta[0]**2 + 1)*sqrt(theta[1]**2 + theta[2]**2 + 1)),                                                                                                                                          1, (theta[1]*theta[3] + theta[2]*theta[4] + theta[5])/(sqrt(theta[1]**2 + theta[2]**2 + 1)*sqrt(theta[3]**2 + theta[4]**2 + theta[5]**2 + 1))],\n",
       "[theta[3]/sqrt(theta[3]**2 + theta[4]**2 + theta[5]**2 + 1), (theta[0]*theta[3] + theta[4])/(sqrt(theta[0]**2 + 1)*sqrt(theta[3]**2 + theta[4]**2 + theta[5]**2 + 1)), (theta[1]*theta[3] + theta[2]*theta[4] + theta[5])/(sqrt(theta[1]**2 + theta[2]**2 + 1)*sqrt(theta[3]**2 + theta[4]**2 + theta[5]**2 + 1)),                                                                                                                                          1]])"
      ]
     },
     "metadata": {},
     "output_type": "display_data"
    }
   ],
   "source": [
    "disp.display(corcalc(ltrimat(4)))"
   ]
  },
  {
   "cell_type": "code",
   "execution_count": 5,
   "id": "1c524b59",
   "metadata": {},
   "outputs": [
    {
     "data": {
      "text/latex": [
       "$\\displaystyle \\left[\\begin{matrix}1 & \\frac{{\\theta}_{0}}{\\sqrt{{\\theta}_{0}^{2} + 1}} & \\frac{{\\theta}_{1}}{\\sqrt{{\\theta}_{1}^{2} + {\\theta}_{2}^{2} + 1}} & \\frac{{\\theta}_{3}}{\\sqrt{{\\theta}_{3}^{2} + {\\theta}_{4}^{2} + {\\theta}_{5}^{2} + 1}} & \\frac{{\\theta}_{6}}{\\sqrt{{\\theta}_{6}^{2} + {\\theta}_{7}^{2} + {\\theta}_{8}^{2} + {\\theta}_{9}^{2} + 1}}\\\\\\frac{{\\theta}_{0}}{\\sqrt{{\\theta}_{0}^{2} + 1}} & 1 & \\frac{{\\theta}_{0} {\\theta}_{1} + {\\theta}_{2}}{\\sqrt{{\\theta}_{0}^{2} + 1} \\sqrt{{\\theta}_{1}^{2} + {\\theta}_{2}^{2} + 1}} & \\frac{{\\theta}_{0} {\\theta}_{3} + {\\theta}_{4}}{\\sqrt{{\\theta}_{0}^{2} + 1} \\sqrt{{\\theta}_{3}^{2} + {\\theta}_{4}^{2} + {\\theta}_{5}^{2} + 1}} & \\frac{{\\theta}_{0} {\\theta}_{6} + {\\theta}_{7}}{\\sqrt{{\\theta}_{0}^{2} + 1} \\sqrt{{\\theta}_{6}^{2} + {\\theta}_{7}^{2} + {\\theta}_{8}^{2} + {\\theta}_{9}^{2} + 1}}\\\\\\frac{{\\theta}_{1}}{\\sqrt{{\\theta}_{1}^{2} + {\\theta}_{2}^{2} + 1}} & \\frac{{\\theta}_{0} {\\theta}_{1} + {\\theta}_{2}}{\\sqrt{{\\theta}_{0}^{2} + 1} \\sqrt{{\\theta}_{1}^{2} + {\\theta}_{2}^{2} + 1}} & 1 & \\frac{{\\theta}_{1} {\\theta}_{3} + {\\theta}_{2} {\\theta}_{4} + {\\theta}_{5}}{\\sqrt{{\\theta}_{1}^{2} + {\\theta}_{2}^{2} + 1} \\sqrt{{\\theta}_{3}^{2} + {\\theta}_{4}^{2} + {\\theta}_{5}^{2} + 1}} & \\frac{{\\theta}_{1} {\\theta}_{6} + {\\theta}_{2} {\\theta}_{7} + {\\theta}_{8}}{\\sqrt{{\\theta}_{1}^{2} + {\\theta}_{2}^{2} + 1} \\sqrt{{\\theta}_{6}^{2} + {\\theta}_{7}^{2} + {\\theta}_{8}^{2} + {\\theta}_{9}^{2} + 1}}\\\\\\frac{{\\theta}_{3}}{\\sqrt{{\\theta}_{3}^{2} + {\\theta}_{4}^{2} + {\\theta}_{5}^{2} + 1}} & \\frac{{\\theta}_{0} {\\theta}_{3} + {\\theta}_{4}}{\\sqrt{{\\theta}_{0}^{2} + 1} \\sqrt{{\\theta}_{3}^{2} + {\\theta}_{4}^{2} + {\\theta}_{5}^{2} + 1}} & \\frac{{\\theta}_{1} {\\theta}_{3} + {\\theta}_{2} {\\theta}_{4} + {\\theta}_{5}}{\\sqrt{{\\theta}_{1}^{2} + {\\theta}_{2}^{2} + 1} \\sqrt{{\\theta}_{3}^{2} + {\\theta}_{4}^{2} + {\\theta}_{5}^{2} + 1}} & 1 & \\frac{{\\theta}_{3} {\\theta}_{6} + {\\theta}_{4} {\\theta}_{7} + {\\theta}_{5} {\\theta}_{8} + {\\theta}_{9}}{\\sqrt{{\\theta}_{3}^{2} + {\\theta}_{4}^{2} + {\\theta}_{5}^{2} + 1} \\sqrt{{\\theta}_{6}^{2} + {\\theta}_{7}^{2} + {\\theta}_{8}^{2} + {\\theta}_{9}^{2} + 1}}\\\\\\frac{{\\theta}_{6}}{\\sqrt{{\\theta}_{6}^{2} + {\\theta}_{7}^{2} + {\\theta}_{8}^{2} + {\\theta}_{9}^{2} + 1}} & \\frac{{\\theta}_{0} {\\theta}_{6} + {\\theta}_{7}}{\\sqrt{{\\theta}_{0}^{2} + 1} \\sqrt{{\\theta}_{6}^{2} + {\\theta}_{7}^{2} + {\\theta}_{8}^{2} + {\\theta}_{9}^{2} + 1}} & \\frac{{\\theta}_{1} {\\theta}_{6} + {\\theta}_{2} {\\theta}_{7} + {\\theta}_{8}}{\\sqrt{{\\theta}_{1}^{2} + {\\theta}_{2}^{2} + 1} \\sqrt{{\\theta}_{6}^{2} + {\\theta}_{7}^{2} + {\\theta}_{8}^{2} + {\\theta}_{9}^{2} + 1}} & \\frac{{\\theta}_{3} {\\theta}_{6} + {\\theta}_{4} {\\theta}_{7} + {\\theta}_{5} {\\theta}_{8} + {\\theta}_{9}}{\\sqrt{{\\theta}_{3}^{2} + {\\theta}_{4}^{2} + {\\theta}_{5}^{2} + 1} \\sqrt{{\\theta}_{6}^{2} + {\\theta}_{7}^{2} + {\\theta}_{8}^{2} + {\\theta}_{9}^{2} + 1}} & 1\\end{matrix}\\right]$"
      ],
      "text/plain": [
       "Matrix([\n",
       "[                                                                       1,                                                                                         theta[0]/sqrt(theta[0]**2 + 1),                                                                                                             theta[1]/sqrt(theta[1]**2 + theta[2]**2 + 1),                                                                                                                                 theta[3]/sqrt(theta[3]**2 + theta[4]**2 + theta[5]**2 + 1),                                                                                                                   theta[6]/sqrt(theta[6]**2 + theta[7]**2 + theta[8]**2 + theta[9]**2 + 1)],\n",
       "[                                          theta[0]/sqrt(theta[0]**2 + 1),                                                                                                                      1,                                                               (theta[0]*theta[1] + theta[2])/(sqrt(theta[0]**2 + 1)*sqrt(theta[1]**2 + theta[2]**2 + 1)),                                                                                   (theta[0]*theta[3] + theta[4])/(sqrt(theta[0]**2 + 1)*sqrt(theta[3]**2 + theta[4]**2 + theta[5]**2 + 1)),                                                                     (theta[0]*theta[6] + theta[7])/(sqrt(theta[0]**2 + 1)*sqrt(theta[6]**2 + theta[7]**2 + theta[8]**2 + theta[9]**2 + 1))],\n",
       "[                            theta[1]/sqrt(theta[1]**2 + theta[2]**2 + 1),                             (theta[0]*theta[1] + theta[2])/(sqrt(theta[0]**2 + 1)*sqrt(theta[1]**2 + theta[2]**2 + 1)),                                                                                                                                                        1,                                                 (theta[1]*theta[3] + theta[2]*theta[4] + theta[5])/(sqrt(theta[1]**2 + theta[2]**2 + 1)*sqrt(theta[3]**2 + theta[4]**2 + theta[5]**2 + 1)),                                   (theta[1]*theta[6] + theta[2]*theta[7] + theta[8])/(sqrt(theta[1]**2 + theta[2]**2 + 1)*sqrt(theta[6]**2 + theta[7]**2 + theta[8]**2 + theta[9]**2 + 1))],\n",
       "[              theta[3]/sqrt(theta[3]**2 + theta[4]**2 + theta[5]**2 + 1),               (theta[0]*theta[3] + theta[4])/(sqrt(theta[0]**2 + 1)*sqrt(theta[3]**2 + theta[4]**2 + theta[5]**2 + 1)),               (theta[1]*theta[3] + theta[2]*theta[4] + theta[5])/(sqrt(theta[1]**2 + theta[2]**2 + 1)*sqrt(theta[3]**2 + theta[4]**2 + theta[5]**2 + 1)),                                                                                                                                                                                          1, (theta[3]*theta[6] + theta[4]*theta[7] + theta[5]*theta[8] + theta[9])/(sqrt(theta[3]**2 + theta[4]**2 + theta[5]**2 + 1)*sqrt(theta[6]**2 + theta[7]**2 + theta[8]**2 + theta[9]**2 + 1))],\n",
       "[theta[6]/sqrt(theta[6]**2 + theta[7]**2 + theta[8]**2 + theta[9]**2 + 1), (theta[0]*theta[6] + theta[7])/(sqrt(theta[0]**2 + 1)*sqrt(theta[6]**2 + theta[7]**2 + theta[8]**2 + theta[9]**2 + 1)), (theta[1]*theta[6] + theta[2]*theta[7] + theta[8])/(sqrt(theta[1]**2 + theta[2]**2 + 1)*sqrt(theta[6]**2 + theta[7]**2 + theta[8]**2 + theta[9]**2 + 1)), (theta[3]*theta[6] + theta[4]*theta[7] + theta[5]*theta[8] + theta[9])/(sqrt(theta[3]**2 + theta[4]**2 + theta[5]**2 + 1)*sqrt(theta[6]**2 + theta[7]**2 + theta[8]**2 + theta[9]**2 + 1)),                                                                                                                                                                                          1]])"
      ]
     },
     "metadata": {},
     "output_type": "display_data"
    }
   ],
   "source": [
    "disp.display(corcalc(ltrimat(5)))"
   ]
  }
 ],
 "metadata": {
  "kernelspec": {
   "display_name": "Python 3 (ipykernel)",
   "language": "python",
   "name": "python3"
  },
  "language_info": {
   "codemirror_mode": {
    "name": "ipython",
    "version": 3
   },
   "file_extension": ".py",
   "mimetype": "text/x-python",
   "name": "python",
   "nbconvert_exporter": "python",
   "pygments_lexer": "ipython3",
   "version": "3.10.12"
  }
 },
 "nbformat": 4,
 "nbformat_minor": 5
}
